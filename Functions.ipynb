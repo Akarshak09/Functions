{
  "nbformat": 4,
  "nbformat_minor": 0,
  "metadata": {
    "colab": {
      "provenance": []
    },
    "kernelspec": {
      "name": "python3",
      "display_name": "Python 3"
    },
    "language_info": {
      "name": "python"
    }
  },
  "cells": [
    {
      "cell_type": "markdown",
      "source": [],
      "metadata": {
        "id": "5aqzS4TfpxD8"
      }
    },
    {
      "cell_type": "markdown",
      "source": [
        "1. What is the difference between a function and a method in Python?\n",
        "-> A function is a block of code that is defined using the def keyword and can\n",
        "   be called independently, wheras method is a function associated with object or instance of class\n",
        "# Example of a function\n",
        "def greet(name):\n",
        "    return \"Hello, \" + name\n",
        "\n",
        "# Call the function\n",
        "print(greet(\"Akarshak\"))\n",
        "\n",
        "# Example of a method (inside a class)\n",
        "class Person:\n",
        "    def __init__(self, name):\n",
        "        self.name = name\n",
        "    \n",
        "    def greet(self):\n",
        "        return \"Hello, \" + self.name\n",
        "\n",
        "# Create an object of the Person class\n",
        "person = Person(\"Aman\")\n",
        "\n",
        "# Call the method on the object\n",
        "print(person.greet())\n",
        "\n",
        " 2. Explain the concept of function arguments and parameters in Python.\n",
        "\n",
        "-> Parameters are the placeholders which decides what kind of specific values\n",
        "   needs to be passed, whereas arguments are the actual values given to the function when called.\n",
        "#Example\n",
        "def greet(name):\n",
        "  print(f\"Hello, {name}\")\n",
        "\n",
        "greet(\"Akarshak\")\n",
        "\n",
        "In the above code \"name\" is parameter, whereas Akarshak is the argument passed.\n",
        "\n",
        " 3. What are the different ways to define and call a function in Python?\n",
        "-> Simple function - No parameters, no return value.\n",
        "   Eg:-greet()\n",
        "   Function with parameters - Takes input values.\n",
        "   Eg:- greet(\"Akarshak\")\n",
        "   Function with return value - Returns a value after computation.\n",
        "   Eg:-def add(a, b):\n",
        "        return a + b\n",
        "   Function with default parameters - Uses default values if no arguments are passed.\n",
        "   Eg:- def greet(name=\"Guest\")\n",
        "   Variable-length arguments - Allows passing an arbitrary number of arguments with *args and **kwargs.\n",
        "   Eg:- def print_numbers(*args)\n",
        "   Lambda functions - Short, anonymous functions.\n",
        "   Eg:- lambda a, b: a + b\n",
        "   Nested functions - Functions defined inside other functions.\n",
        "   Eg:- def outer_function():\n",
        "    def inner_function():\n",
        "        print(\"This is the inner function\")\n",
        "    inner_function()\n",
        "\n",
        "    outer_function()  \n",
        "\n",
        " 4. What is the purpose of the `return` statement in a Python function?\n",
        "-> The return statement in python function is used to send back the result or value from the function to the caller and ends the function execution as well.\n",
        "\n",
        "Eg:- def add(a, b):\n",
        "    return a + b  \n",
        "\n",
        "    result = add(3, 4)  \n",
        "    print(result)  \n",
        "\n",
        " 5. What are iterators in Python and how do they differ from iterables?\n",
        "-> An iterable is any object in Python that can be looped over or iterated using a for loop, whereas an iterator is an object that keeps track of the current position as it iterates over an iterable.\n",
        "\n",
        "Eg:- Iterable\n",
        "    my_list = [1, 2, 3]\n",
        "    for item in my_list:  - my_list is an iterable\n",
        "      print(item)\n",
        "\n",
        "    Iterator\n",
        "    my_list = [1, 2, 3]\n",
        "    iterator = iter(my_list)  # 'iter' creates an iterator from the iterable\n",
        "\n",
        "- Using 'next()' to manually iterate through the iterator\n",
        "    print(next(iterator))  -Output: 2\n",
        "    print(next(iterator))  -Output: 1\n",
        "    print(next(iterator))  -Output: 3\n",
        "    print(next(iterator))  -Raises StopIteration because there are no more items\n",
        "\n",
        "\n",
        "\n",
        "\n",
        "\n",
        "\n",
        "\n"
      ],
      "metadata": {
        "id": "yX2XlXfmp4OH"
      }
    },
    {
      "cell_type": "markdown",
      "source": [
        "6. Explain the concept of generators in Python and how they are defined.\n",
        "-> Generators are special functions that yield values lazily using the `yield` keyword.\n",
        "\n",
        "Example:\n",
        "```python\n",
        "def count_up_to(n):\n",
        "    count = 1\n",
        "    while count <= n:\n",
        "        yield count\n",
        "        count += 1\n",
        "\n",
        "for num in count_up_to(3):\n",
        "    print(num)\n",
        "```\n",
        "\n",
        "7. What are the advantages of using generators over regular functions?\n",
        "-> Memory efficient (generates values on demand)\n",
        "-> Can be used to represent infinite sequences\n",
        "\n",
        "8. What is a lambda function in Python and when is it typically used?\n",
        "-> A lambda function is an anonymous function defined using the `lambda` keyword.\n",
        "\n",
        "Example:\n",
        "```python\n",
        "double = lambda x: x * 2\n",
        "print(double(5))\n",
        "```\n",
        "\n",
        "9. Explain the purpose and usage of the `map()` function in Python.\n",
        "-> The `map()` function applies a function to all items in an iterable.\n",
        "\n",
        "Example:\n",
        "```python\n",
        "numbers = [1, 2, 3]\n",
        "squared = list(map(lambda x: x**2, numbers))\n",
        "print(squared)\n",
        "```\n",
        "10. What is the difference between `map()`, `reduce()`, and `filter()` functions in Python?\n",
        "-> **map()** applies a function to each item.\n",
        "-> **filter()** filters elements based on a condition.\n",
        "-> **reduce()** applies a function cumulatively to elements.\n",
        "\n",
        "Example:\n",
        "```python\n",
        "from functools import reduce\n",
        "numbers = [1, 2, 3, 4]\n",
        "print(list(map(lambda x: x*2, numbers)))  # [2, 4, 6, 8]\n",
        "print(list(filter(lambda x: x % 2 == 0, numbers)))  # [2, 4]\n",
        "print(reduce(lambda x, y: x + y, numbers))  # 10\n",
        "```\n"
      ],
      "metadata": {
        "id": "piAhp7XncqzJ"
      }
    },
    {
      "cell_type": "markdown",
      "source": [],
      "metadata": {
        "id": "h4YIfBHVeBnX"
      }
    },
    {
      "cell_type": "code",
      "source": [
        "#1. Write a Python function that takes a list of numbers as input and returns the sum of all even numbers in the list.\n",
        "\n",
        "def sum_even_numbers(numbers):\n",
        "    return sum(num for num in numbers if num % 2 == 0)\n",
        "\n",
        "# Example usage:\n",
        "numbers = [1, 2, 3, 4, 5, 6]\n",
        "print(sum_even_numbers(numbers))"
      ],
      "metadata": {
        "colab": {
          "base_uri": "https://localhost:8080/"
        },
        "id": "Ib280jk4fT9I",
        "outputId": "004c9542-7e3a-4f21-bff5-70fe8605b1f7"
      },
      "execution_count": 4,
      "outputs": [
        {
          "output_type": "stream",
          "name": "stdout",
          "text": [
            "12\n"
          ]
        }
      ]
    },
    {
      "cell_type": "code",
      "source": [
        "# 2. Create a Python function that accepts a string and returns the reverse of that string.\n",
        "\n",
        "def reverse_string(s):\n",
        "    return s[::-1]\n",
        "\n",
        "# Example usage:\n",
        "text = \"hello\"\n",
        "print(reverse_string(text))"
      ],
      "metadata": {
        "colab": {
          "base_uri": "https://localhost:8080/"
        },
        "id": "2vV_vPZ4fikS",
        "outputId": "c21334d5-3728-470c-f35f-4eb732eafddf"
      },
      "execution_count": 3,
      "outputs": [
        {
          "output_type": "stream",
          "name": "stdout",
          "text": [
            "olleh\n"
          ]
        }
      ]
    },
    {
      "cell_type": "code",
      "source": [
        "#4. Implement a Python function that takes a list of integers and returns a new list containing the squares of each number.\n",
        "\n",
        "def square_numbers(numbers):\n",
        "    return [num ** 2 for num in numbers]\n",
        "\n",
        "# Example usage:\n",
        "numbers = [1, 2, 3, 4, 5]\n",
        "print(square_numbers(numbers))\n"
      ],
      "metadata": {
        "id": "Nl-44hA5qPL5",
        "colab": {
          "base_uri": "https://localhost:8080/"
        },
        "outputId": "cfb355cb-9a4b-4dde-b9c9-cf1023e63deb"
      },
      "execution_count": 5,
      "outputs": [
        {
          "output_type": "stream",
          "name": "stdout",
          "text": [
            "[1, 4, 9, 16, 25]\n"
          ]
        }
      ]
    },
    {
      "cell_type": "code",
      "source": [
        "#5. Write a Python function that checks if a given number is prime or not from 1 to 200.\n",
        "\n",
        "def is_prime(n):\n",
        "    if n < 2:\n",
        "        return False\n",
        "    for i in range(2, int(n ** 0.5) + 1):\n",
        "        if n % i == 0:\n",
        "            return False\n",
        "    return True\n",
        "\n",
        "# Check for numbers from 1 to 200\n",
        "primes = [n for n in range(1, 201) if is_prime(n)]\n",
        "print(primes)"
      ],
      "metadata": {
        "colab": {
          "base_uri": "https://localhost:8080/"
        },
        "id": "A_3BqnlOgA9M",
        "outputId": "7eedffd1-c985-4981-dfdc-f99155907d8d"
      },
      "execution_count": 6,
      "outputs": [
        {
          "output_type": "stream",
          "name": "stdout",
          "text": [
            "[2, 3, 5, 7, 11, 13, 17, 19, 23, 29, 31, 37, 41, 43, 47, 53, 59, 61, 67, 71, 73, 79, 83, 89, 97, 101, 103, 107, 109, 113, 127, 131, 137, 139, 149, 151, 157, 163, 167, 173, 179, 181, 191, 193, 197, 199]\n"
          ]
        }
      ]
    },
    {
      "cell_type": "code",
      "source": [
        "# 16. Create an iterator class in Python that generates the Fibonacci sequence up to a specified number of terms.\n",
        "\n",
        "class FibonacciIterator:\n",
        "    def __init__(self, n):\n",
        "        self.n = n\n",
        "        self.a, self.b = 0, 1\n",
        "        self.count = 0\n",
        "\n",
        "    def __iter__(self):\n",
        "        return self\n",
        "\n",
        "    def __next__(self):\n",
        "        if self.count >= self.n:\n",
        "            raise StopIteration\n",
        "        value = self.a\n",
        "        self.a, self.b = self.b, self.a + self.b\n",
        "        self.count += 1\n",
        "        return value\n",
        "\n",
        "fib = FibonacciIterator(10)\n",
        "print(list(fib))"
      ],
      "metadata": {
        "colab": {
          "base_uri": "https://localhost:8080/"
        },
        "id": "dm35QaTRgOxS",
        "outputId": "a5399190-f480-4040-a982-fadfeabe5ff0"
      },
      "execution_count": 8,
      "outputs": [
        {
          "output_type": "stream",
          "name": "stdout",
          "text": [
            "[0, 1, 1, 2, 3, 5, 8, 13, 21, 34]\n"
          ]
        }
      ]
    },
    {
      "cell_type": "code",
      "source": [
        "#5. Create an iterator class in Python that generates the Fibonacci sequence up to a specified number of terms.\n",
        "def powers_of_two(exponent):\n",
        "    for i in range(exponent + 1):\n",
        "        yield 2 ** i\n",
        "\n",
        "# Example usage:\n",
        "for power in powers_of_two(5):\n",
        "    print(power)\n"
      ],
      "metadata": {
        "colab": {
          "base_uri": "https://localhost:8080/"
        },
        "id": "Kq6fkqSIgrcP",
        "outputId": "13e238db-39c0-4a1a-f8dc-a6f61cc54876"
      },
      "execution_count": 9,
      "outputs": [
        {
          "output_type": "stream",
          "name": "stdout",
          "text": [
            "1\n",
            "2\n",
            "4\n",
            "8\n",
            "16\n",
            "32\n"
          ]
        }
      ]
    },
    {
      "cell_type": "code",
      "source": [
        " #7. Implement a generator function that reads a file line by line and yields each line as a string.\n",
        "\n",
        "import os\n",
        "\n",
        "def read_file_line_by_line(file_path):\n",
        "    if not os.path.exists(file_path):\n",
        "        print(f\"Error: File '{file_path}' not found.\")\n",
        "        return\n",
        "\n",
        "    with open(file_path, 'r', encoding='utf-8') as file:\n",
        "        for line in file:\n",
        "            yield line.strip()\n",
        "\n",
        "file_path = \"sample.txt\"\n",
        "for line in read_file_line_by_line(file_path):\n",
        "    print(line)\n",
        "\n"
      ],
      "metadata": {
        "colab": {
          "base_uri": "https://localhost:8080/"
        },
        "id": "MD4Q9KK_g-5I",
        "outputId": "f3b99837-d412-4dd8-fe37-3c852a447fb5"
      },
      "execution_count": 16,
      "outputs": [
        {
          "output_type": "stream",
          "name": "stdout",
          "text": [
            "Error: File 'sample.txt' not found.\n"
          ]
        }
      ]
    },
    {
      "cell_type": "code",
      "source": [
        "#8. Use a lambda function in Python to sort a list of tuples based on the second element of each tuple.\n",
        "data = [('apple', 3), ('banana', 1), ('orange', 2)]\n",
        "\n",
        "# Sort the list using a lambda function as the key\n",
        "sorted_data = sorted(data, key=lambda item: item[1])\n",
        "\n",
        "print(sorted_data)  # Output: [('banana', 1), ('orange', 2), ('apple', 3)]"
      ],
      "metadata": {
        "colab": {
          "base_uri": "https://localhost:8080/"
        },
        "id": "8AJGEnYahNpt",
        "outputId": "f6f92b20-b44e-423d-d603-0d1a6580d1c7"
      },
      "execution_count": 18,
      "outputs": [
        {
          "output_type": "stream",
          "name": "stdout",
          "text": [
            "[('banana', 1), ('orange', 2), ('apple', 3)]\n"
          ]
        }
      ]
    },
    {
      "cell_type": "code",
      "source": [
        "#9. Write a Python program that uses `map()` to convert a list of temperatures from Celsius to Fahrenheit.\n",
        "def celsius_to_fahrenheit(celsius):\n",
        "\n",
        "    return (celsius * 9/5) + 32\n",
        "\n",
        "# Example list of Celsius temperatures\n",
        "celsius_temps = [0, 10, 20, 30, 40]\n",
        "\n",
        "# Use map() to apply the conversion function to each temperature\n",
        "fahrenheit_temps = list(map(celsius_to_fahrenheit, celsius_temps))\n",
        "\n",
        "# Print the Fahrenheit temperatures\n",
        "print(fahrenheit_temps)"
      ],
      "metadata": {
        "colab": {
          "base_uri": "https://localhost:8080/"
        },
        "id": "JyG2KhyWipk_",
        "outputId": "14109dca-06c0-4897-c9d7-cc3da9b14ab9"
      },
      "execution_count": 19,
      "outputs": [
        {
          "output_type": "stream",
          "name": "stdout",
          "text": [
            "[32.0, 50.0, 68.0, 86.0, 104.0]\n"
          ]
        }
      ]
    },
    {
      "cell_type": "code",
      "source": [
        "#10. Create a Python program that uses `filter()` to remove all the vowels from a given string.\n",
        "def remove_vowels(string):\n",
        "\n",
        "    vowels = \"aeiouAEIOU\"\n",
        "    return \"\".join(filter(lambda char: char not in vowels, string))\n",
        "\n",
        "# Example usage:\n",
        "text = \"Hello, World!\"\n",
        "filtered_text = remove_vowels(text)\n",
        "print(filtered_text)  # Output: Hll, Wrld!"
      ],
      "metadata": {
        "colab": {
          "base_uri": "https://localhost:8080/"
        },
        "id": "ZqN9vq-2i9v8",
        "outputId": "f7aac40a-77ae-41f7-cc31-c4141f6f2010"
      },
      "execution_count": 20,
      "outputs": [
        {
          "output_type": "stream",
          "name": "stdout",
          "text": [
            "Hll, Wrld!\n"
          ]
        }
      ]
    },
    {
      "cell_type": "code",
      "source": [
        "# 11. Accounting Routine in a Bookshop using `lambda` and `map()`\n",
        "orders = [\n",
        "    (34587, \"Learning Python, Mark Lutz\", 4, 40.95),\n",
        "    (98762, \"Programming Python, Mark Lutz\", 5, 56.80),\n",
        "    (77226, \"Head First Python, Paul Barry\", 3, 32.95),\n",
        "    (88112, \"Einführung in Python3, Bernd Klein\", 3, 24.99)\n",
        "]\n",
        "\n",
        "order_totals = list(map(lambda order: (order[0], order[2] * order[3] if order[2] * order[3] >= 100 else order[2] * order[3] + 10), orders))\n",
        "\n",
        "print(order_totals)\n"
      ],
      "metadata": {
        "colab": {
          "base_uri": "https://localhost:8080/"
        },
        "id": "Pgu43TY3jLs4",
        "outputId": "129e0a71-9073-4421-eb36-0a9568dd2935"
      },
      "execution_count": 21,
      "outputs": [
        {
          "output_type": "stream",
          "name": "stdout",
          "text": [
            "[(34587, 163.8), (98762, 284.0), (77226, 108.85000000000001), (88112, 84.97)]\n"
          ]
        }
      ]
    },
    {
      "cell_type": "code",
      "source": [],
      "metadata": {
        "id": "XWmmAalUjoup"
      },
      "execution_count": null,
      "outputs": []
    }
  ]
}